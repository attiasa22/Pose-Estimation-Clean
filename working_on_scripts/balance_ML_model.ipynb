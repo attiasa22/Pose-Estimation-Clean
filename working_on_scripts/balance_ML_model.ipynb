{
 "cells": [
  {
   "cell_type": "markdown",
   "metadata": {},
   "source": [
    "The goal of this ML task is to predict the Berg Balance Score for a patient from the tasks they have completed, with data collected from 2D video recordings collected using the trt_pose model.\n",
    "\n",
    "Strategy for feature engineering:\n",
    "For each person, get a \"score\" from each joint from each task, and given that persons score train the model \n",
    "For 18 joints across 14 tasks, we thus need to assign 252 weights.\n",
    "\n",
    "The exact method of deriving the score will most likely be a measure of the covariance or jerkiness of the joint movement.\n",
    "\n"
   ]
  },
  {
   "cell_type": "markdown",
   "metadata": {},
   "source": [
    "trt_pose first created a csv of data for each video. For each patient, the csvs for each task were combined by adding two extra columns, a columns for the frame number, as well as a column denoting the task that frame a part of. We can therefore avoid 3D/Multiindexed dataframes etc. \n",
    "\n",
    "\n",
    "Y value (Berg score will be last column)?\n"
   ]
  },
  {
   "cell_type": "code",
   "execution_count": null,
   "metadata": {},
   "outputs": [],
   "source": [
    "import pandas as pd\n",
    "\n",
    "\n",
    "\n",
    "\n"
   ]
  },
  {
   "cell_type": "code",
   "execution_count": null,
   "metadata": {},
   "outputs": [],
   "source": []
  }
 ],
 "metadata": {
  "interpreter": {
   "hash": "aee8b7b246df8f9039afb4144a1f6fd8d2ca17a180786b69acc140d282b71a49"
  },
  "kernelspec": {
   "display_name": "Python 3.9.1 64-bit",
   "name": "python3"
  },
  "language_info": {
   "name": "python",
   "version": ""
  },
  "orig_nbformat": 4
 },
 "nbformat": 4,
 "nbformat_minor": 2
}